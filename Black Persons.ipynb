{
 "cells": [
  {
   "cell_type": "code",
   "execution_count": 195,
   "id": "6487fad7-80b9-44d0-aead-f17e80ed8f3d",
   "metadata": {},
   "outputs": [],
   "source": [
    "# Imported all modules needed\n",
    "\n",
    "import pandas as pd\n",
    "import matplotlib.pyplot as plt\n",
    "import seaborn as sns\n",
    "from sklearn.linear_model import LinearRegression\n",
    "import numpy as np\n",
    "import requests\n",
    "from bs4 import BeautifulSoup\n",
    "from scipy import stats"
   ]
  },
  {
   "cell_type": "code",
   "execution_count": null,
   "id": "6451acfe-f965-4d01-b284-97f5501e2f5c",
   "metadata": {},
   "outputs": [],
   "source": [
    "### Get demography data from canada.ca "
   ]
  },
  {
   "cell_type": "code",
   "execution_count": 197,
   "id": "003d9bf8-9c3e-445d-b28e-22544098a9a0",
   "metadata": {},
   "outputs": [],
   "source": [
    "# Load the dataset\n",
    "url = 'https://www.canada.ca/en/treasury-board-secretariat/services/innovation/human-resources-statistics/diversity-inclusion-statistics/distribution-public-service-canada-employees-designated-sub-group-occupational-group-members-visible-minorities.html'\n",
    "\n",
    "# Get the webpage content for web scraping \n",
    "response = requests.get(url)\n",
    "response.raise_for_status()  # Raise an exception for HTTP errors\n",
    "\n",
    "# Parse the HTML content using BeautifulSoup (web scraping)\n",
    "soup = BeautifulSoup(response.content, 'html.parser')\n",
    "tables = soup.find_all('table')"
   ]
  },
  {
   "cell_type": "code",
   "execution_count": null,
   "id": "1683d41d-901d-43da-8e47-fc699dde747f",
   "metadata": {},
   "outputs": [],
   "source": [
    "### Get"
   ]
  },
  {
   "cell_type": "code",
   "execution_count": 199,
   "id": "654e13c4-2e79-4fee-a7bc-df5fdb249ca1",
   "metadata": {},
   "outputs": [
    {
     "name": "stdout",
     "output_type": "stream",
     "text": [
      "Blacks in Financial Management: 479\n",
      "Others in Financial Management: 35.4\n"
     ]
    }
   ],
   "source": [
    "# Get information for 2023\n",
    "\n",
    "table = tables[0]\n",
    "rows = table.find_all('tr')\n",
    "\n",
    "# Initialize variables\n",
    "chinese_percentage_2023 = None\n",
    "other_percentage_2023 = None\n",
    "\n",
    "for row in rows:\n",
    "    # Find the occupational group header\n",
    "    header = row.find('th', {'scope': 'row'})\n",
    "    if header and 'FI: Financial Management' in header.get_text(strip=True):\n",
    "        # Get all data cells in this row\n",
    "        cells = row.find_all('td')\n",
    "        other_percentage_2023 = cells[24].get_text(strip=True)  # Black Number is 2nd cell\n",
    "        black_percentage_2023 = cells[2].get_text(strip=True)  # Black Number is 2nd cell\n",
    "        break\n",
    "\n",
    "print(f\"Blacks in Financial Management: {black_number_2023}\")\n",
    "print(f\"Others in Financial Management: {other_percentage_2023}\")"
   ]
  },
  {
   "cell_type": "code",
   "execution_count": 201,
   "id": "cbe64f49-376d-4f2f-9099-260836eeb1e0",
   "metadata": {},
   "outputs": [
    {
     "name": "stdout",
     "output_type": "stream",
     "text": [
      "Blacks in Financial Management: 7.2\n",
      "Others in Financial Management: 34.4\n"
     ]
    }
   ],
   "source": [
    "# Get information for 2022\n",
    "\n",
    "table = tables[1]\n",
    "rows = table.find_all('tr')\n",
    "# Initialize variables\n",
    "other_percentage_2022 = None\n",
    "black_percentage_2022 = None\n",
    "\n",
    "for row in rows:\n",
    "    # Find the occupational group header\n",
    "    header = row.find('th', {'scope': 'row'})\n",
    "    if header and 'FI: Financial Management' in header.get_text(strip=True):\n",
    "        # Get all data cells in this row\n",
    "        cells = row.find_all('td')\n",
    "        other_percentage_2022 = cells[24].get_text(strip=True)  # Black Number is 2nd cell\n",
    "        black_percentage_2022 = cells[2].get_text(strip=True)  # Black Number is 2nd cell\n",
    "        break\n",
    "\n",
    "print(f\"Blacks in Financial Management: {black_percentage_2022}\")\n",
    "print(f\"Others in Financial Management: {other_percentage_2022}\")"
   ]
  },
  {
   "cell_type": "code",
   "execution_count": 223,
   "id": "277b2523-c6c0-4296-af7f-21ed2679854d",
   "metadata": {},
   "outputs": [],
   "source": [
    "### We have our data... Now we train our Linear Regression model to predict the future!"
   ]
  },
  {
   "cell_type": "code",
   "execution_count": 203,
   "id": "23575e9a-89aa-4513-a29a-df643a6eb7d2",
   "metadata": {
    "scrolled": true
   },
   "outputs": [],
   "source": [
    "import pandas as pd\n",
    "from sklearn.linear_model import LinearRegression\n",
    "\n",
    "# Define historical percentage data\n",
    "data = {\n",
    "    'year': [2022, 2023],\n",
    "    'black_percentage': [black_percentage_2022, black_percentage_2023],\n",
    "    'other_percentage': [other_percentage_2022, other_percentage_2023]\n",
    "}\n",
    "\n",
    "# Convert to DataFrame\n",
    "df = pd.DataFrame(data)\n",
    "\n",
    "# Convert percentages to float (removing any % signs if present)\n",
    "df['black_percentage'] = df['black_percentage'].astype(str).str.replace('%', '').astype(float)\n",
    "df['other_percentage'] = df['other_percentage'].astype(str).str.replace('%', '').astype(float)\n",
    "\n",
    "# Save historical data to CSV\n",
    "df.to_csv('financial_management_percentages.csv', index=False)\n",
    "\n",
    "# Prepare data for Linear Regression\n",
    "X = df[['year']]\n",
    "y_black = df['black_percentage']\n",
    "y_other = df['other_percentage']\n",
    "\n",
    "# Create and fit separate models\n",
    "model_black = LinearRegression()\n",
    "model_other = LinearRegression()\n",
    "model_black.fit(X, y_black)\n",
    "model_other.fit(X, y_other)\n",
    "\n",
    "# Generate future predictions (next 5 years)\n",
    "future_years = pd.DataFrame({'year': range(2024, 2029)})\n",
    "predicted_black_percentage = model_black.predict(future_years)\n",
    "predicted_other_percentage = model_other.predict(future_years)\n",
    "\n",
    "# Create DataFrame with predictions\n",
    "predictions = pd.DataFrame({\n",
    "    'year': future_years['year'],\n",
    "    'predicted_black_percentage': predicted_black_percentage,\n",
    "    'predicted_other_percentage': predicted_other_percentage\n",
    "})\n",
    "\n",
    "# Save predictions to CSV\n",
    "predictions.to_csv('predicted_financial_management_percentages.csv', index=False)"
   ]
  },
  {
   "cell_type": "code",
   "execution_count": 205,
   "id": "68b0d158-cabd-4849-9156-961e8bc48c06",
   "metadata": {},
   "outputs": [
    {
     "data": {
      "image/png": "[encoded data removed]",
      "text/plain": [
       "<Figure size 1200x600 with 1 Axes>"
      ]
     },
     "metadata": {},
     "output_type": "display_data"
    }
   ],
   "source": [
    "# Visualize the trends\n",
    "plt.figure(figsize=(12, 6))\n",
    "\n",
    "# Combine historical and predicted data for continuous lines\n",
    "all_years = pd.concat([df['year'], future_years['year']])\n",
    "all_black_percentage = pd.concat([df['black_percentage'], pd.Series(predicted_black_percentage)])\n",
    "all_other_percentage = pd.concat([df['other_percentage'], pd.Series(predicted_other_percentage)])\n",
    "\n",
    "# Plot percentage trends\n",
    "plt.plot(all_years, all_black_percentage, 'b-o', label='Black (Historical & Predicted)')\n",
    "plt.plot(all_years, all_other_percentage, 'g-o', label='Others (Historical & Predicted)')\n",
    "\n",
    "plt.title('Financial Management Demographics Trend Analysis')\n",
    "plt.xlabel('Year')\n",
    "plt.ylabel('Percentage')\n",
    "plt.grid(True)\n",
    "plt.legend()\n",
    "plt.tight_layout()\n",
    "plt.show()"
   ]
  },
  {
   "cell_type": "code",
   "execution_count": 207,
   "id": "21fc8af2-2d6d-4319-9491-6befea2cecbd",
   "metadata": {},
   "outputs": [],
   "source": [
    "### Find slope (rate of change) to better compare"
   ]
  },
  {
   "cell_type": "code",
   "execution_count": 221,
   "id": "c99f3154-fb4c-4186-9e95-081147346d56",
   "metadata": {},
   "outputs": [
    {
     "name": "stdout",
     "output_type": "stream",
     "text": [
      "Black Data Slope: 0.500000000000008\n",
      "Others Data Slope: 1.0000000000000164\n"
     ]
    }
   ],
   "source": [
    "others_y = np.array([float(other_percentage_2022), float(other_percentage_2023)] + list(predicted_other_percentage))\n",
    "others_x = np.array([2022,2023,2024,2025,2026,2027,2028])\n",
    "\n",
    "blacks_y = np.array([float(black_percentage_2022), float(black_percentage_2023)] + list(predicted_black_percentage))\n",
    "blacks_x = np.array([2022,2023,2024,2025,2026,2027,2028])\n",
    "\n",
    "others_stats = stats.linregress(others_x,others_y)\n",
    "blacks_stats = stats.linregress(blacks_x, blacks_y)\n",
    "\n",
    "print(f'Black Data Slope: {blacks_stats.slope}')\n",
    "print(f'Others Data Slope: {others_stats.slope}')"
   ]
  },
  {
   "cell_type": "code",
   "execution_count": null,
   "id": "64ec0869-3ed1-497f-a4a5-0f9f9c72c6cb",
   "metadata": {},
   "outputs": [],
   "source": []
  }
 ],
 "metadata": {
  "kernelspec": {
   "display_name": "Python [conda env:base] *",
   "language": "python",
   "name": "conda-base-py"
  },
  "language_info": {
   "codemirror_mode": {
    "name": "ipython",
    "version": 3
   },
   "file_extension": ".py",
   "mimetype": "text/x-python",
   "name": "python",
   "nbconvert_exporter": "python",
   "pygments_lexer": "ipython3",
   "version": "3.12.7"
  }
 },
 "nbformat": 4,
 "nbformat_minor": 5
}
